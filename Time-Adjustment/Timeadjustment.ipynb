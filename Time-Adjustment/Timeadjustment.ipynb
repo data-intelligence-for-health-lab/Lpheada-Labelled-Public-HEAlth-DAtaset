{
 "cells": [
  {
   "cell_type": "markdown",
   "metadata": {},
   "source": [
    "### Time Adjustment\n",
    "------------------------------------------------------------\n",
    "\n",
    "Twitter API returns the date and time that a tweet is published in **UTC**.\n",
    "\n",
    "To adjust this timezone base on each tweet's location, the following code snippets utilizes the bounding box of coordinates, which enables spatial mapping to tweets' respective city locations, using the **timezonefinder** package. Given that daytime, month, and weekday can be influential factors in twitting about a specific event, and to better utilize the datetime data *(%a %b %d %H:%M:%S %Y)*, we extract *a*: weekday,*b*: month, and *H:* hour fields and stored them as separate features."
   ]
  },
  {
   "cell_type": "code",
   "execution_count": 3,
   "metadata": {},
   "outputs": [],
   "source": [
    "#import packages\n",
    "\n",
    "import json\n",
    "from timezonefinder import TimezoneFinder\n",
    "import pytz\n",
    "import datetime as dt\n",
    "import pandas as pd\n",
    "import csv\n",
    "\n",
    "\n",
    "\n",
    "#need to read the csv file in this way as it had lots of line breaks in some of the columns\n",
    "with open(\"File Containing the time data (created_at from twitter).csv\") as f:\n",
    "    reader = csv.reader(f)\n",
    "    headers = next(reader, None)\n",
    "    csv_rows = list(reader)\n",
    "headers\n",
    "\n",
    "\n",
    "df = pd.DataFrame(csv_rows, columns=headers)\n",
    "\n",
    "#Creating new columns for the adjusted time\n",
    "df['local_time_twitterStyle'] = \"dummy\"\n",
    "df['local_time_nice'] = \"dummy\"\n",
    "df['hour'] = \"dummy\"\n",
    "df ['weekday'] = \"dummy\"\n",
    "df ['month']= \"dummy\"\n",
    "for index, row in df.iterrows():\n",
    "    try:\n",
    "        longitude = float(row['place.bounding_box.coordinates.0.0.0'])\n",
    "        \n",
    "        latitude = float(row['place.bounding_box.coordinates.0.0.1'])\n",
    "        \n",
    "        tf = TimezoneFinder()\n",
    "        \n",
    "        #To define the location mapped to the timezone. This location will be used for time adjustment.\n",
    "        loc = tf.timezone_at(lng=longitude, lat=latitude)  \n",
    "        \n",
    "        # Convert string to pytz format\n",
    "        timezone = pytz.timezone(loc)  \n",
    "        \n",
    "        # Convert the UTC time to the local time\n",
    "        utc_time = dt.datetime.strptime(row['created_at'], '%a %b %d %H:%M:%S +0000 %Y').replace(tzinfo=pytz.UTC)  # Convert tweet timestamp to datetime object\n",
    "        # Get local time as datetime object\n",
    "        local_time = utc_time.replace(tzinfo=pytz.utc).astimezone(timezone)  \n",
    "\n",
    "        row['local_time_twitterStyle'] = local_time.strftime(format='%a %b %d %H:%M:%S +0000 %Y')\n",
    "        #print('---------------')\n",
    "        row['local_time_nice'] = local_time.strftime('%Y-%m-%d %H:%M:%S')\n",
    "        row['hour']= local_time.strftime('%H')\n",
    "        row ['weekday']= local_time.strftime('%a')\n",
    "        row ['month']= local_time.strftime('%m')\n",
    "        #print(local_time.strftime('%H'))\n",
    "    except:\n",
    "            pass\n",
    "\n"
   ]
  },
  {
   "cell_type": "markdown",
   "metadata": {},
   "source": [
    "------------------------------"
   ]
  }
 ],
 "metadata": {
  "kernelspec": {
   "display_name": "Python 3",
   "language": "python",
   "name": "python3"
  },
  "language_info": {
   "codemirror_mode": {
    "name": "ipython",
    "version": 3
   },
   "file_extension": ".py",
   "mimetype": "text/x-python",
   "name": "python",
   "nbconvert_exporter": "python",
   "pygments_lexer": "ipython3",
   "version": "3.8.3"
  }
 },
 "nbformat": 4,
 "nbformat_minor": 4
}
