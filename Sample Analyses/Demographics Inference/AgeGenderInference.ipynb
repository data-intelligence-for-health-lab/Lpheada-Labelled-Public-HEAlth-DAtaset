{
 "cells": [
  {
   "cell_type": "markdown",
   "metadata": {},
   "source": [
    "### Demographics Inference using m3inference"
   ]
  },
  {
   "cell_type": "code",
   "execution_count": 1,
   "metadata": {
    "colab": {
     "base_uri": "https://localhost:8080/"
    },
    "executionInfo": {
     "elapsed": 404,
     "status": "ok",
     "timestamp": 1609361743964,
     "user": {
      "displayName": "Zahra shakeri",
      "photoUrl": "https://lh3.googleusercontent.com/a-/AOh14GguuY37SWmK5_gcc_aVAX4HiKzXiXoVTY1It4a98g=s64",
      "userId": "06981929927593903412"
     },
     "user_tz": 420
    },
    "id": "sBFOVMCJFKj6",
    "outputId": "82071990-47c3-49cd-ecee-38584dbca984"
   },
   "outputs": [
    {
     "name": "stderr",
     "output_type": "stream",
     "text": [
      "<ipython-input-1-a7905aada8f6>:4: FutureWarning: Passing a negative integer is deprecated in version 1.0 and will not be supported in future version. Instead, use None to not limit the column width.\n",
      "  pd.set_option('display.max_colwidth', -1)\n"
     ]
    }
   ],
   "source": [
    "from fastai.text import *\n",
    "import pandas as pd\n",
    "import numpy as np\n",
    "pd.set_option('display.max_colwidth', -1)"
   ]
  },
  {
   "cell_type": "code",
   "execution_count": 14,
   "metadata": {
    "colab": {
     "base_uri": "https://localhost:8080/"
    },
    "executionInfo": {
     "elapsed": 3508,
     "status": "ok",
     "timestamp": 1609361747091,
     "user": {
      "displayName": "Zahra shakeri",
      "photoUrl": "https://lh3.googleusercontent.com/a-/AOh14GguuY37SWmK5_gcc_aVAX4HiKzXiXoVTY1It4a98g=s64",
      "userId": "06981929927593903412"
     },
     "user_tz": 420
    },
    "id": "tZX75wDEFyVX",
    "outputId": "6d87ac99-6bd0-4fad-a111-bda9ddef4c97"
   },
   "outputs": [
    {
     "name": "stdout",
     "output_type": "stream",
     "text": [
      "Requirement already satisfied: m3inference in /usr/local/lib/python3.6/dist-packages (1.1.2)\n",
      "Requirement already satisfied: Pillow in /usr/local/lib/python3.6/dist-packages (from m3inference) (7.0.0)\n",
      "Requirement already satisfied: pycld2>=0.31 in /usr/local/lib/python3.6/dist-packages (from m3inference) (0.41)\n",
      "Requirement already satisfied: requests in /usr/local/lib/python3.6/dist-packages (from m3inference) (2.23.0)\n",
      "Requirement already satisfied: rauth in /usr/local/lib/python3.6/dist-packages (from m3inference) (0.7.3)\n",
      "Requirement already satisfied: tqdm in /usr/local/lib/python3.6/dist-packages (from m3inference) (4.41.1)\n",
      "Requirement already satisfied: torchvision>=0.2.2 in /usr/local/lib/python3.6/dist-packages (from m3inference) (0.8.1+cu101)\n",
      "Requirement already satisfied: torch>=1.0.0 in /usr/local/lib/python3.6/dist-packages (from m3inference) (1.7.0+cu101)\n",
      "Requirement already satisfied: numpy>=1.13 in /usr/local/lib/python3.6/dist-packages (from m3inference) (1.19.4)\n",
      "Requirement already satisfied: pandas>=0.20 in /usr/local/lib/python3.6/dist-packages (from m3inference) (1.1.5)\n",
      "Requirement already satisfied: idna<3,>=2.5 in /usr/local/lib/python3.6/dist-packages (from requests->m3inference) (2.10)\n",
      "Requirement already satisfied: urllib3!=1.25.0,!=1.25.1,<1.26,>=1.21.1 in /usr/local/lib/python3.6/dist-packages (from requests->m3inference) (1.24.3)\n",
      "Requirement already satisfied: chardet<4,>=3.0.2 in /usr/local/lib/python3.6/dist-packages (from requests->m3inference) (3.0.4)\n",
      "Requirement already satisfied: certifi>=2017.4.17 in /usr/local/lib/python3.6/dist-packages (from requests->m3inference) (2020.12.5)\n",
      "Requirement already satisfied: future in /usr/local/lib/python3.6/dist-packages (from torch>=1.0.0->m3inference) (0.16.0)\n",
      "Requirement already satisfied: dataclasses in /usr/local/lib/python3.6/dist-packages (from torch>=1.0.0->m3inference) (0.8)\n",
      "Requirement already satisfied: typing-extensions in /usr/local/lib/python3.6/dist-packages (from torch>=1.0.0->m3inference) (3.7.4.3)\n",
      "Requirement already satisfied: python-dateutil>=2.7.3 in /usr/local/lib/python3.6/dist-packages (from pandas>=0.20->m3inference) (2.8.1)\n",
      "Requirement already satisfied: pytz>=2017.2 in /usr/local/lib/python3.6/dist-packages (from pandas>=0.20->m3inference) (2018.9)\n",
      "Requirement already satisfied: six>=1.5 in /usr/local/lib/python3.6/dist-packages (from python-dateutil>=2.7.3->pandas>=0.20->m3inference) (1.15.0)\n"
     ]
    }
   ],
   "source": [
    "!pip install m3inference"
   ]
  },
  {
   "cell_type": "code",
   "execution_count": 16,
   "metadata": {
    "colab": {
     "base_uri": "https://localhost:8080/"
    },
    "executionInfo": {
     "elapsed": 4515,
     "status": "ok",
     "timestamp": 1609361748117,
     "user": {
      "displayName": "Zahra shakeri",
      "photoUrl": "https://lh3.googleusercontent.com/a-/AOh14GguuY37SWmK5_gcc_aVAX4HiKzXiXoVTY1It4a98g=s64",
      "userId": "06981929927593903412"
     },
     "user_tz": 420
    },
    "id": "cSMndXFBFtD5",
    "outputId": "509f6546-c81c-4167-fbfe-0e82cd372268"
   },
   "outputs": [
    {
     "name": "stderr",
     "output_type": "stream",
     "text": [
      "12/30/2020 20:55:46 - INFO - m3inference.m3inference -   Version 1.1.2\n",
      "12/30/2020 20:55:46 - INFO - m3inference.m3inference -   Running on cpu.\n",
      "12/30/2020 20:55:46 - INFO - m3inference.m3inference -   Will use full M3 model.\n",
      "12/30/2020 20:55:47 - INFO - m3inference.m3inference -   Model full_model exists at /root/m3/models/full_model.mdl.\n",
      "12/30/2020 20:55:47 - INFO - m3inference.utils -   Checking MD5 for model full_model at /root/m3/models/full_model.mdl\n",
      "12/30/2020 20:55:47 - INFO - m3inference.utils -   MD5s match.\n",
      "12/30/2020 20:55:47 - INFO - m3inference.m3inference -   Loaded pretrained weight at /root/m3/models/full_model.mdl\n"
     ]
    }
   ],
   "source": [
    "# from torch.utils.data import BatchSampler\n",
    "import pprint\n",
    "import m3inference\n",
    "from m3inference import M3Twitter\n",
    "m3twitter=M3Twitter()"
   ]
  },
  {
   "cell_type": "code",
   "execution_count": 17,
   "metadata": {
    "colab": {
     "base_uri": "https://localhost:8080/"
    },
    "executionInfo": {
     "elapsed": 4495,
     "status": "ok",
     "timestamp": 1609361748118,
     "user": {
      "displayName": "Zahra shakeri",
      "photoUrl": "https://lh3.googleusercontent.com/a-/AOh14GguuY37SWmK5_gcc_aVAX4HiKzXiXoVTY1It4a98g=s64",
      "userId": "06981929927593903412"
     },
     "user_tz": 420
    },
    "id": "buBpk82FFHTL",
    "outputId": "7c3f40a5-5358-496f-b2ad-466ef039a0c8"
   },
   "outputs": [
    {
     "name": "stderr",
     "output_type": "stream",
     "text": [
      "12/30/2020 20:55:47 - INFO - m3inference.m3twitter -   Results from cache for id 55514310.\n"
     ]
    },
    {
     "name": "stdout",
     "output_type": "stream",
     "text": [
      "{'input': {'description': \"With the exception of love, friendship and the beauty of Art, I don't see much else that can nurture human life.\\n(Muriel Barbery)\", 'id': '55514310', 'img_path': '/root/m3/cache/55514310_224x224.jpg', 'lang': 'en', 'name': 'Shaza', 'screen_name': 'OZmandia'}, 'output': {'gender': {'male': 0.0103, 'female': 0.9897}, 'age': {'<=18': 0.0264, '19-29': 0.1662, '30-39': 0.152, '>=40': 0.6555}, 'org': {'non-org': 0.9995, 'is-org': 0.0005}}}\n"
     ]
    }
   ],
   "source": [
    "#The API first needs to validate your Twitter App's credentials\n",
    "m3twitter.twitter_init_from_file('auth-sample.txt')\n",
    "#sample run\n",
    "print(m3twitter.infer_id(str(\"55514310\")))\n"
   ]
  },
  {
   "cell_type": "code",
   "execution_count": null,
   "metadata": {
    "colab": {
     "base_uri": "https://localhost:8080/"
    },
    "executionInfo": {
     "elapsed": 2755805,
     "status": "ok",
     "timestamp": 1609364499437,
     "user": {
      "displayName": "Zahra shakeri",
      "photoUrl": "https://lh3.googleusercontent.com/a-/AOh14GguuY37SWmK5_gcc_aVAX4HiKzXiXoVTY1It4a98g=s64",
      "userId": "06981929927593903412"
     },
     "user_tz": 420
    },
    "id": "mkqYHPMQFHTM",
    "outputId": "5c53bec7-617c-4e2c-b575-5b67e91ab971",
    "scrolled": true
   },
   "outputs": [],
   "source": [
    "import os\n",
    "\n",
    "DATA_DIR = \"Data path\"\n",
    "USER_ID_FILE = os.path.join(DATA_DIR, \" User_IDs.txt\")\n",
    "RESULTS_FILE = os.path.join(DATA_DIR, \"Demographics_output.txt\")\n",
    "WARNING_FILE= os.path.join(DATA_DIR, \"Warnings.txt\")\n",
    "ERROR_FILE= os.path.join(DATA_DIR, \"Errors.txt\") #User's who deleted their accounts or made it private can be detected using the API\n",
    "\n",
    "\n",
    "\n",
    "# Generate the list of output json objects for each user\n",
    "dem = []\n",
    "with open(USER_ID_FILE, \"r\") as f:\n",
    "    for line in f:\n",
    "        dem.append(line.strip())\n",
    "        \n",
    "fres = open(RESULTS_FILE, \"w\", encoding=\"utf-8\")\n",
    "warning= open(WARNING_FILE, \"w\", encoding=\"utf-8\")\n",
    "errors= open(ERROR_FILE, \"w\", encoding=\"utf-8\")\n",
    "\n",
    "for user in dem:\n",
    "    try:\n",
    "        \n",
    "        #print(hit_id)\n",
    "        gender_age= m3twitter.infer_id(str(user))\n",
    "        \n",
    "        #print(gender_age)\n",
    "        fres.write(str(gender_age)+\"\\n\")\n",
    "    except:\n",
    "        errors.write(user+\"\\n\")\n",
    "        \n",
    "fres.close()\n",
    "errors.close()"
   ]
  }
 ],
 "metadata": {
  "colab": {
   "collapsed_sections": [],
   "machine_shape": "hm",
   "name": "AgeGender.ipynb",
   "provenance": []
  },
  "kernelspec": {
   "display_name": "Python 3",
   "language": "python",
   "name": "python3"
  },
  "language_info": {
   "codemirror_mode": {
    "name": "ipython",
    "version": 3
   },
   "file_extension": ".py",
   "mimetype": "text/x-python",
   "name": "python",
   "nbconvert_exporter": "python",
   "pygments_lexer": "ipython3",
   "version": "3.8.10"
  }
 },
 "nbformat": 4,
 "nbformat_minor": 4
}
