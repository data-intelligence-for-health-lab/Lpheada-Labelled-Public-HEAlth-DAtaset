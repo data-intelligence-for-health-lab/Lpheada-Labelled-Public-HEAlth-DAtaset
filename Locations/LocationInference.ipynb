{
 "cells": [
  {
   "cell_type": "markdown",
   "metadata": {},
   "source": [
    "### Location Inference"
   ]
  },
  {
   "cell_type": "markdown",
   "metadata": {},
   "source": [
    "------------"
   ]
  },
  {
   "cell_type": "code",
   "execution_count": 1,
   "metadata": {},
   "outputs": [],
   "source": [
    "import pandas as pd\n",
    "import numpy as np\n",
    "import csv"
   ]
  },
  {
   "cell_type": "code",
   "execution_count": null,
   "metadata": {},
   "outputs": [],
   "source": [
    "def find_city (twt):\n",
    "    \n",
    "    for index, row in twt.iterrows():\n",
    "        \n",
    "        city=row['place.name']\n",
    "        if (df['GeographicalName'].str.match(city)).any():\n",
    "        \n",
    "            twt['City'][index]=city\n",
    "            print (city)\n",
    "        else:\n",
    "            twt['City'][index]= \"dummy\"\n",
    "    #---------------------------------------------------------------------------------\n",
    "    #We need to fix the Province first, using the twitter dataset. Because there might be multiple cities with the same name (e.g. Jasper).\n",
    "        \n",
    "        try:\n",
    "            province=row['place.full_name'].rsplit(', ', 1)[1] #returns the province in (Calgary, Alberta)\n",
    "\n",
    "        except IndexError:\n",
    "            province = row['place.full_name'].rsplit(', ', 1)[-1]\n",
    "            #print(row['place.full_name'].rsplit(', ', 1)[-1])\n",
    "\n",
    "        if df['Province'].str.match(province).any():\n",
    "            twt['Province'][index]=province\n",
    "            print(province)\n",
    "            print(\"----------------------------\")\n",
    "        else:\n",
    "            twt['Province'][index]= \"dummy\" \n",
    "           \n",
    "        #In case we could not detect the province using the Twitter's field (but we have the city from that field)    \n",
    "        if (df[df['GeographicalName']==city]['Province'].any() and twt['Province'][index]== \"dummy\" ):\n",
    "            twt['Province'][index]=df[df['GeographicalName']==city]['Province'].values[0] \n",
    "            print(df[df['GeographicalName']==city]['Province'].values[0] )   \n",
    "            print(\"----------------------------\")\n",
    "        #sometimes there is a , after the city name + some alphabets + Province name     \n",
    "        \n",
    "           \n",
    "    return twt"
   ]
  },
  {
   "cell_type": "code",
   "execution_count": null,
   "metadata": {},
   "outputs": [],
   "source": [
    "def find_city_old (twt):\n",
    "    twt['City']=\"dummy\"\n",
    "    twt['Province']=\"dummy\"\n",
    "    twt['place.name']= twt['place.name'].str.replace('\\(', '')\n",
    "    twt['place.name']= twt['place.name'].str.replace('\\)', '')\n",
    "    for index, row in twt.iterrows():\n",
    "        #sometimes there is a , after the city name + some alphabets + Province name \n",
    "        for i in reversed(range(len(row['place.name'].rsplit(',', 1)[0].split()))):\n",
    "            \n",
    "            city= \" \".join(row['place.name'].rsplit(',', 1)[0].split()[:i+1])\n",
    "            print(city)\n",
    "            if df['GeographicalName'].str.match(city).any():\n",
    "                twt['City'][index]=city\n",
    "                \n",
    "                if (df[df['GeographicalName']==city]['Province'].any()):\n",
    "                   \n",
    "                    twt['Province'][index]=df[df['GeographicalName']==city]['Province'].values[0] \n",
    "                    print(df[df['GeographicalName']==city]['Province'].values[0])\n",
    "                break\n",
    "         \n",
    "        if (twt['City'][index]== \"dummy\"):\n",
    "            try:\n",
    "                province=row['place.full_name'].rsplit(', ', 1)[1] #return the province in (Calgary, Alberta)\n",
    "            except IndexError:\n",
    "                province = row['place.full_name'].rsplit(', ', 1)[-1]\n",
    "                #print(row['place.full_name'].rsplit(', ', 1)[-1])\n",
    "\n",
    "            if df['Province'].str.match(province).any():\n",
    "                twt['Province'][index]=province\n",
    "            else:\n",
    "                twt['Province'][index]= \"dummy\"       \n",
    "    return twt\n",
    "            "
   ]
  },
  {
   "cell_type": "code",
   "execution_count": null,
   "metadata": {},
   "outputs": [],
   "source": [
    "def contains_word(s, w): #find the whole word\n",
    "    return f' {w} ' in f' {s} '\n",
    "\n"
   ]
  },
  {
   "cell_type": "markdown",
   "metadata": {},
   "source": [
    "The following function checks if it can extract the city/province names from the vague descriptions. For example, **the beautiful city of Toronto** can be mapped to **Toronto**.\n"
   ]
  },
  {
   "cell_type": "code",
   "execution_count": null,
   "metadata": {},
   "outputs": [],
   "source": [
    "def find_dummy (twt):\n",
    "     for index, row in twt.iterrows():\n",
    "            if (row['City']==\"dummy\"):\n",
    "                for i in range(len(cities)):\n",
    "                    \n",
    "                    w = cities[i].lower()\n",
    "                    s = twt['place.full_name'][index].lower()\n",
    "                    if (f' {w} ' in f' {s}'):\n",
    "                        print(\"true\")\n",
    "                    #if (locations[i].lower() in twt['place.full_name'][index].lower()):\n",
    "                        twt['City'][index]= df[df['GeographicalName']==cities[i]]['GeographicalName'].values[0] \n",
    "                        print (df[df['GeographicalName']==cities[i]]['GeographicalName'].values[0] )\n",
    "                        if (twt['Province'][index]!= \"dummy\"):\n",
    "                            if (twt['Province'][index]!= df[df['GeographicalName']==cities[i]]['Province'].values[0]):\n",
    "                                print(\"****************************ERROR********************\")\n",
    "                                twt['City'][index]= \"dummy\" #the found city is wrong, remove the found one!\n",
    "                        else:\n",
    "                            twt['Province'][index]=df[df['GeographicalName']==cities[i]]['Province'].values[0]     \n",
    "                        break"
   ]
  },
  {
   "cell_type": "code",
   "execution_count": null,
   "metadata": {},
   "outputs": [],
   "source": [
    "def find_from_text (twt):\n",
    "     for index, row in twt.iterrows():\n",
    "            \n",
    "            if (row['City']==\"dummy\"):\n",
    "                for i in range(len(cities_only)):\n",
    "                    w = cities_only[i].lower()\n",
    "                    s = twt['text'][index].lower()\n",
    "                    if (f' {w} ' in f' {s}'):\n",
    "                        \n",
    "                    #if (cities[i].lower() in twt['text'][index].lower()):\n",
    "                        twt['City'][index]= df[df['GeographicalName']==cities_only[i]]['GeographicalName'].values[0] \n",
    "                        print (df[df['GeographicalName']==cities_only[i]]['GeographicalName'].values[0] )\n",
    "                        twt['Province'][index]=df[df['GeographicalName']==cities_only[i]]['Province'].values[0]    "
   ]
  },
  {
   "cell_type": "code",
   "execution_count": null,
   "metadata": {},
   "outputs": [],
   "source": [
    "\n",
    "def find_from_user (twt):\n",
    "     for index, row in twt.iterrows():\n",
    "            if (row['City']==\"dummy\"):\n",
    "                for i in range(len(cities_only)):\n",
    "                    w = cities_only[i].lower()\n",
    "                    s = twt['user.description'][index].lower()\n",
    "                    if (f' {w} ' in f' {s}'):\n",
    "                    #if (cities[i].lower() in twt['text'][index].lower()):\n",
    "                        twt['City'][index]= df[df['GeographicalName']==cities_only[i]]['GeographicalName'].values[0] \n",
    "                        print (df[df['GeographicalName']==cities_only[i]]['GeographicalName'].values[0] )\n",
    "                        twt['Province'][index]=df[df['GeographicalName']==cities_only[i]]['Province'].values[0]   "
   ]
  },
  {
   "cell_type": "code",
   "execution_count": null,
   "metadata": {},
   "outputs": [],
   "source": [
    "def find_dummy_province(twt):\n",
    "    prov= df['Province'].unique()\n",
    "    for index, row in twt.iterrows():\n",
    "            if (row['Province']==\"dummy\"):\n",
    "                for i in range(len(prov)):\n",
    "                    \n",
    "                    w = prov[i]\n",
    "                    s = twt['place.full_name'][index]\n",
    "                    if (f' {w} ' in f' {s}'):\n",
    "                        print(\"true\")\n",
    "                    #if (locations[i].lower() in twt['place.full_name'][index].lower()):\n",
    "                        twt['Province'][index]=w\n",
    "                        print (w)   \n",
    "                        break"
   ]
  },
  {
   "cell_type": "code",
   "execution_count": null,
   "metadata": {},
   "outputs": [],
   "source": [
    "def final_find (twt):\n",
    "    geo= df['GeographicalName'].unique()\n",
    "    print(len(geo))\n",
    "    for index, row in twt.iterrows():\n",
    "        l_match=''\n",
    "        if (row['City']==\"dummy\"):\n",
    "            for i in range(len(geo)):\n",
    "                \n",
    "                w = geo[i]\n",
    "                \n",
    "                s = twt['place.name'][index]\n",
    "                if (f' {w} ' in f' {s}'):\n",
    "                    print(w)\n",
    "                    if len(w)>len(l_match): #if there is fraser and fraser valley, we want to catch the longest one!\n",
    "                        l_match=w\n",
    "            print(l_match)\n",
    "                #if (cities[i].lower() in twt['text'][index].lower()):\n",
    "            if len(l_match)>0:               \n",
    "                 \n",
    "                #print (df[df['GeographicalName']==l_match]['GeographicalName'].values[0] )\n",
    "                if (twt['Province'][index]!= \"dummy\"):\n",
    "                        if (twt['Province'][index]!= df[df['GeographicalName']==l_match]['Province'].values[0]):\n",
    "                            print(\"****************************ERROR********************\")\n",
    "                            twt['City'][index]= \"dummy\" #the found city is wrong, remove the found one!\n",
    "                        else:\n",
    "                            twt['Province'][index]=df[df['GeographicalName']==l_match]['Province'].values[0] \n",
    "                            print(df[df['GeographicalName']==l_match]['Province'].values[0])\n",
    "                            twt['City'][index]= df[df['GeographicalName']==l_match]['GeographicalName'].values[0]\n",
    "                else:\n",
    "                    twt['Province'][index]=df[df['GeographicalName']==l_match]['Province'].values[0] \n",
    "                    print(df[df['GeographicalName']==l_match]['Province'].values[0])\n",
    "                    twt['City'][index]= df[df['GeographicalName']==l_match]['GeographicalName'].values[0]\n",
    "                "
   ]
  },
  {
   "cell_type": "code",
   "execution_count": null,
   "metadata": {
    "scrolled": true
   },
   "outputs": [],
   "source": [
    "#Canada.csv==the geographical dataset (can be changed to other dictionaries)\n",
    "\n",
    "canada_loc = pd.read_csv(\"Canada.csv\", sep=',',header=0)\n",
    "area = ['City', 'Regional Municipality', 'Town', 'District Municipality', 'Township Municipality', 'Municipal District',\n",
    "       'Dispersed Rural Community', 'Indian Reserve','Village','Municipality', 'Regional District', 'country', 'convert',\n",
    "        'Resort Municipality', 'Separated Town', 'Rural Municipality','County Regional Municipality', 'Hill', 'Community','Recreational Community']\n",
    "\n",
    "stop_words = ['Trail', 'Park', 'Street', 'Central', 'Centre', 'Center', 'Black', 'Boys', 'Home', 'Lake', 'Shaw', 'Hall', 'David', 'West', 'Little']\n",
    "\n",
    "#filter the dataset to cities to exclude all the tweets that are explicitly mapped to a city\n",
    "#df= canada_loc.loc[canada_loc['Generic Term'].isin(area)] \n",
    "df=canada_loc\n",
    "#df= canada_loc\n",
    "ct = ['City', 'Town']\n",
    "c = ['City']\n",
    "df_cities= canada_loc.loc[canada_loc['Generic Term'].isin(ct)] \n",
    "df_only_cities= canada_loc.loc[canada_loc['Generic Term'].isin(c)] \n",
    "cities=df_cities['GeographicalName'].unique() #remove this if the line below worked Ok!\n",
    "#cities=df['GeographicalName'].unique()\n",
    "cities_only=df_only_cities['GeographicalName'].unique()\n",
    "\n",
    "#--------------------------------------------------------------\n",
    "\n",
    "\n",
    "\n",
    "\n",
    "#need to read the csv file in this way as it had lots of line breaks in some of the columns\n",
    "with open(\"inputRawdata.csv\") as f:\n",
    "    reader = csv.reader(f)\n",
    "    headers = next(reader, None)\n",
    "    csv_rows = list(reader)\n",
    "headers\n",
    "\n",
    "\n",
    "twt = pd.DataFrame(csv_rows, columns=headers)\n",
    "twt['City']=\"dummy\"\n",
    "twt['Province']=\"dummy\"\n",
    "find_city(twt)\n",
    "find_dummy_province(twt)\n",
    "find_dummy(twt)\n",
    "df= canada_loc.loc[~canada_loc['GeographicalName'].isin(stop_words)] \n",
    "final_find(twt)\n",
    "find_from_user(twt)\n",
    "find_from_text(twt)"
   ]
  },
  {
   "cell_type": "code",
   "execution_count": null,
   "metadata": {},
   "outputs": [],
   "source": [
    "twt=twt.drop_duplicates(subset='id_str', keep=\"last\")"
   ]
  },
  {
   "cell_type": "code",
   "execution_count": null,
   "metadata": {},
   "outputs": [],
   "source": [
    "twt.to_csv(\"OutputLocation.csv\", sep=',', encoding='utf-8', index=False)"
   ]
  }
 ],
 "metadata": {
  "kernelspec": {
   "display_name": "Python 3",
   "language": "python",
   "name": "python3"
  },
  "language_info": {
   "codemirror_mode": {
    "name": "ipython",
    "version": 3
   },
   "file_extension": ".py",
   "mimetype": "text/x-python",
   "name": "python",
   "nbconvert_exporter": "python",
   "pygments_lexer": "ipython3",
   "version": "3.8.3"
  }
 },
 "nbformat": 4,
 "nbformat_minor": 4
}
